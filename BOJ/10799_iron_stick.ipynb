{
 "cells": [
  {
   "cell_type": "code",
   "execution_count": 6,
   "metadata": {},
   "outputs": [
    {
     "name": "stdout",
     "output_type": "stream",
     "text": [
      "True\n"
     ]
    }
   ],
   "source": [
    "print(is_laser(\"(\", \")\"))"
   ]
  },
  {
   "cell_type": "code",
   "execution_count": 7,
   "metadata": {},
   "outputs": [
    {
     "name": "stdout",
     "output_type": "stream",
     "text": [
      "(()))\n"
     ]
    }
   ],
   "source": [
    "sticks = list(input())"
   ]
  },
  {
   "cell_type": "code",
   "execution_count": 8,
   "metadata": {},
   "outputs": [
    {
     "name": "stdout",
     "output_type": "stream",
     "text": [
      "['(', '(', ')', ')', ')']\n"
     ]
    }
   ],
   "source": [
    "print(sticks)"
   ]
  },
  {
   "cell_type": "code",
   "execution_count": 4,
   "metadata": {},
   "outputs": [
    {
     "name": "stdout",
     "output_type": "stream",
     "text": [
      "()(((()())(())()))(())\n",
      "17\n"
     ]
    }
   ],
   "source": [
    "def is_laser(a, b):\n",
    "    if a == \"(\" and b == \")\":\n",
    "        return True\n",
    "    else:\n",
    "        return False\n",
    "\n",
    "\n",
    "brackets = list(input())\n",
    "#들어온 문자열 저장할 변수. laser 판별용\n",
    "before = 0\n",
    "now = 0\n",
    "\n",
    "#열린 괄호와 닫힌 괄호의 수 close는 필요 없을 수도\n",
    "open_ = 0\n",
    "close_ = 0\n",
    "\n",
    "cnt = 0\n",
    "for bracket in brackets:\n",
    "    before = now\n",
    "    now = bracket\n",
    "    #laser\n",
    "    if is_laser(before, now):\n",
    "        if open_ > 0:\n",
    "            open_ -= 1\n",
    "        cnt += open_\n",
    "        #print(open_, cnt)\n",
    "        continue\n",
    "    \n",
    "    if now == \"(\":\n",
    "        open_ += 1\n",
    "    else:\n",
    "        cnt += 1\n",
    "        open_ -= 1\n",
    "\n",
    "print(cnt)\n",
    "    \n",
    "    "
   ]
  }
 ],
 "metadata": {
  "kernelspec": {
   "display_name": "Python 3",
   "language": "python",
   "name": "python3"
  },
  "language_info": {
   "codemirror_mode": {
    "name": "ipython",
    "version": 3
   },
   "file_extension": ".py",
   "mimetype": "text/x-python",
   "name": "python",
   "nbconvert_exporter": "python",
   "pygments_lexer": "ipython3",
   "version": "3.7.6"
  }
 },
 "nbformat": 4,
 "nbformat_minor": 4
}
