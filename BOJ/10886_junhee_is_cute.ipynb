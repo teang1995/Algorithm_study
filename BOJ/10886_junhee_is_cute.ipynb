{
 "cells": [
  {
   "cell_type": "code",
   "execution_count": 2,
   "metadata": {},
   "outputs": [
    {
     "name": "stdout",
     "output_type": "stream",
     "text": [
      "3\n",
      "1\n",
      "1\n",
      "0\n",
      "Junhee is not cute!\n"
     ]
    }
   ],
   "source": [
    "members = int(input())\n",
    "cute = 0\n",
    "\n",
    "for member in range(members):\n",
    "    is_cute = int(input())\n",
    "    if is_cute == 1:\n",
    "        cute += 1\n",
    "    \n",
    "if cute  > members - cute:\n",
    "    print(\"Junhee is cute!\")\n",
    "    \n",
    "else:\n",
    "    print(\"Junhee is not cute!\")"
   ]
  }
 ],
 "metadata": {
  "kernelspec": {
   "display_name": "Python 3",
   "language": "python",
   "name": "python3"
  },
  "language_info": {
   "codemirror_mode": {
    "name": "ipython",
    "version": 3
   },
   "file_extension": ".py",
   "mimetype": "text/x-python",
   "name": "python",
   "nbconvert_exporter": "python",
   "pygments_lexer": "ipython3",
   "version": "3.7.6"
  }
 },
 "nbformat": 4,
 "nbformat_minor": 4
}
