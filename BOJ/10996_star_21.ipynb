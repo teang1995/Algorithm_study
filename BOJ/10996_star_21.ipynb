{
 "cells": [
  {
   "cell_type": "code",
   "execution_count": 26,
   "metadata": {
    "collapsed": true
   },
   "outputs": [
    {
     "name": "stdout",
     "output_type": "stream",
     "text": [
      "4\n",
      "* *\n",
      " * *\n",
      "* *\n",
      " * *\n",
      "* *\n",
      " * *\n",
      "* *\n",
      " * *\n"
     ]
    }
   ],
   "source": [
    "'''\n",
    "이런 생각 필요 없이\n",
    "그냥 N의 홀짝에 따라\n",
    "반복문을 구성한 후, \n",
    "줄의 홀짝에 따라 한 줄의 반복문을 구성하면 되는 문제였다.\n",
    "사실상 얻어 걸린 것 같다.\n",
    "'''\n",
    "N = int(input())\n",
    "if N == 1:\n",
    "    print(\"*\")\n",
    "else:\n",
    "    a = [\"*\" if i %2 == 0 else \" \" for i in range(2 * N - 1)]\n",
    "    if N % 2 == 0 :    \n",
    "        for _ in range(N):\n",
    "            print(\"\".join(a[:N - 1]))\n",
    "            print(\"\".join(a[N - 1 :])) \n",
    "    \n",
    "    else :\n",
    "        for _ in range(N):\n",
    "            print(\"\".join(a[:N]))\n",
    "            print(\"\".join(a[N:])) \n",
    "\n"
   ]
  }
 ],
 "metadata": {
  "kernelspec": {
   "display_name": "Python 3",
   "language": "python",
   "name": "python3"
  },
  "language_info": {
   "codemirror_mode": {
    "name": "ipython",
    "version": 3
   },
   "file_extension": ".py",
   "mimetype": "text/x-python",
   "name": "python",
   "nbconvert_exporter": "python",
   "pygments_lexer": "ipython3",
   "version": "3.7.6"
  }
 },
 "nbformat": 4,
 "nbformat_minor": 4
}
