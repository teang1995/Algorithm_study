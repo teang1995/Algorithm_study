{
 "cells": [
  {
   "cell_type": "code",
   "execution_count": 3,
   "metadata": {},
   "outputs": [
    {
     "name": "stdout",
     "output_type": "stream",
     "text": [
      "3\n",
      "26 40 83\n",
      "49 60 57\n",
      "13 89 99\n",
      "[[26, 40, 83], [49, 60, 57], [13, 89, 99]]\n"
     ]
    }
   ],
   "source": [
    "N = int(input())\n",
    "\n",
    "answer = [0 for _ in range(N)]\n",
    "costs = [[] for _ in range(N)]\n",
    "for n in range(N):\n",
    "    cost = list(map(int, input().split()))\n",
    "    costs[n] = cost\n",
    "\n",
    "answer[0] = \n",
    "print(answer[-1])"
   ]
  }
 ],
 "metadata": {
  "kernelspec": {
   "display_name": "Python 3",
   "language": "python",
   "name": "python3"
  },
  "language_info": {
   "codemirror_mode": {
    "name": "ipython",
    "version": 3
   },
   "file_extension": ".py",
   "mimetype": "text/x-python",
   "name": "python",
   "nbconvert_exporter": "python",
   "pygments_lexer": "ipython3",
   "version": "3.7.6"
  }
 },
 "nbformat": 4,
 "nbformat_minor": 4
}
