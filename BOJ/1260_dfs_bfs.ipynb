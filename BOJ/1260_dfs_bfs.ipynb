{
 "cells": [
  {
   "cell_type": "markdown",
   "metadata": {},
   "source": [
    "DFS와 BFS.\n",
    "\n",
    "DFS는 깊이 우선 탐색의 줄임말이다. \n",
    "끝까지 가보면서 stack에 경로를 추가하고, 갈 곳이 없으면 돌아가면서\n",
    "갈 길이 있는 노드에서 다시 끝까지 간다.\n",
    "\n",
    "BFS는 너비 우선 탐색의 줄임말이다.\n",
    "한 노드에서 갈 수 있는 모든 경로를 추가한 후, \n",
    "하나씩 움직이면서 해당 노드에서 갈 수 있는 모든 경로를 큐에 추가한다.\n",
    "\n",
    "이 코드는 개선이 필요해보이는데, 누가 봐줬으면 좋겠다 엉엉\n",
    "과연 이걸 문제에 써먹을 수 있을까.\n",
    "너무 지저분해서 난감하지만 풀어서 뿌듯하다."
   ]
  },
  {
   "cell_type": "code",
   "execution_count": 9,
   "metadata": {
    "collapsed": true
   },
   "outputs": [
    {
     "name": "stdout",
     "output_type": "stream",
     "text": [
      "5 5 3\n",
      "5 4\n",
      "5 2\n",
      "1 2\n",
      "3 4\n",
      "3 1\n",
      "3 1 2 5 4 \n",
      "3 1 4 2 5 5 "
     ]
    }
   ],
   "source": [
    "##### import collections\n",
    "\n",
    "N, M, v = map(int, input().split())\n",
    "\n",
    "#map\n",
    "map_ = [[] for _ in range(N)]\n",
    "\n",
    "#input\n",
    "for _ in range(M):\n",
    "    #two points\n",
    "    x, y = map(int, input().split())\n",
    "    \n",
    "    #initialize map\n",
    "    map_[x - 1].append(y - 1)\n",
    "    map_[y - 1].append(x - 1)\n",
    "    \n",
    "map_ = [sorted(x) for x in map_]\n",
    "\n",
    "\n",
    "def dfs(map_, v,N):\n",
    "    #node\n",
    "    pos = v - 1\n",
    "    \n",
    "    #Is visited?\n",
    "    visited = [pos]\n",
    "    stack = [pos]\n",
    "\n",
    "    #until all nodes are checked \n",
    "    while(len(stack)):\n",
    "       \n",
    "        #if there is no node visitable\n",
    "        if all([x in visited for x in map_[pos]]):\n",
    "            pos = stack[-1]\n",
    "            if all([x in visited for x in map_[pos]]):\n",
    "                pos = stack.pop()\n",
    "            continue\n",
    "        #visit minimum node\n",
    "        \n",
    "        pos = min([x for x in map_[pos] if x not in visited])\n",
    "        if not all([x in visited for x in map_[pos]]):    \n",
    "            stack.append(pos)\n",
    "        visited.append(pos)\n",
    "    return visited\n",
    "\n",
    "def bfs(map_, v, N):\n",
    "    #node\n",
    "    pos = v - 1\n",
    "    \n",
    "    #is visited?\n",
    "    visited = [pos]\n",
    "    queue = []\n",
    "    \n",
    "    #until all nodes are visited\n",
    "    while(True):\n",
    "        \n",
    "        #if there is no visitable node\n",
    "        for x in map_[pos]:\n",
    "            if x not in visited:\n",
    "                queue.append(x)\n",
    "        if not len(queue):\n",
    "            return visited      \n",
    "        pos = queue.pop(0)\n",
    "        if pos not in visited:\n",
    "            visited.append(pos)\n",
    "            \n",
    "        \n",
    "\n",
    "ans_dfs = [x +1 for x in dfs(map_, v, N)]\n",
    "ans_bfs = [x +1 for x in bfs(map_, v, N)]\n",
    "\n",
    "for ans in ans_dfs:\n",
    "    print(ans, end = \" \")\n",
    "print(\"\")\n",
    "for ans in ans_bfs:\n",
    "    print(ans, end = \" \")\n"
   ]
  }
 ],
 "metadata": {
  "kernelspec": {
   "display_name": "Python 3",
   "language": "python",
   "name": "python3"
  },
  "language_info": {
   "codemirror_mode": {
    "name": "ipython",
    "version": 3
   },
   "file_extension": ".py",
   "mimetype": "text/x-python",
   "name": "python",
   "nbconvert_exporter": "python",
   "pygments_lexer": "ipython3",
   "version": "3.7.6"
  }
 },
 "nbformat": 4,
 "nbformat_minor": 4
}
