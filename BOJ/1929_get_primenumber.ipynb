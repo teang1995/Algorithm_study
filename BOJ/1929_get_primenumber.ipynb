{
 "cells": [
  {
   "cell_type": "code",
   "execution_count": null,
   "metadata": {},
   "outputs": [],
   "source": [
    "M, N = map(int, input().split())\n",
    "\n",
    "#there is no prme number under 1\n",
    "if  N <=1 :\n",
    "    pass\n",
    "\n",
    "\n",
    "else:\n",
    "    primeList = [0 if (i == 0 or i == 1) else 1 for i in range(N + 1)]\n",
    "    \n",
    "    #2 ~ sqrt(N)\n",
    "    for i in range(2, int(N ** 0.5) + 1):\n",
    "        #if ith num is 1\n",
    "        if primeList[i] :\n",
    "            #initialize all items 0 whose index is multiples of i\n",
    "            for j in range(i * 2, N + 1, i):\n",
    "                primeList[j] = 0\n",
    "    #print\n",
    "    for i, num in enumerate(primeList):\n",
    "        if num == 1 and M <= i:\n",
    "            print(i)\n"
   ]
  }
 ],
 "metadata": {
  "kernelspec": {
   "display_name": "Python 3",
   "language": "python",
   "name": "python3"
  },
  "language_info": {
   "codemirror_mode": {
    "name": "ipython",
    "version": 3
   },
   "file_extension": ".py",
   "mimetype": "text/x-python",
   "name": "python",
   "nbconvert_exporter": "python",
   "pygments_lexer": "ipython3",
   "version": "3.7.6"
  }
 },
 "nbformat": 4,
 "nbformat_minor": 4
}
