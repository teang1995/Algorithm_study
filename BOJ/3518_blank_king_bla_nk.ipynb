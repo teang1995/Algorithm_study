{
 "cells": [
  {
   "cell_type": "code",
   "execution_count": null,
   "metadata": {
    "scrolled": false
   },
   "outputs": [
    {
     "name": "stdout",
     "output_type": "stream",
     "text": [
      "a bc z\n",
      "de f zz\n"
     ]
    }
   ],
   "source": [
    "'''\n",
    "백준에서 입력의 갯수에 제한이 없을 때, 어떻게 풀어야할지 \n",
    "알 수 있는 문제였다.\n",
    "'''\n",
    "\n",
    "user_writing = []\n",
    "while True:\n",
    "    try:\n",
    "        line = input()\n",
    "    except EOFError:\n",
    "        break\n",
    "    user_writing.append(line)\n",
    "        \n",
    "answers = [[] for _ in range(len(user_writing))]\n",
    "len_max = [0 for _ in range(180)]\n",
    "for things in zip(answers, user_writing):\n",
    "    answer, writing = things\n",
    "    idx = 0\n",
    "    for char in writing.split(\" \"):\n",
    "        if char != \"\":\n",
    "            answer.append(char)\n",
    "            if len(char) > len_max[idx]:\n",
    "                len_max[idx] = len(char)\n",
    "            idx += 1\n",
    "for answer in answers:\n",
    "    for i, char in enumerate(answer):\n",
    "        if i == len(answer) - 1:\n",
    "            print(char)\n",
    "        else:\n",
    "            print(char + ' ' * (len_max[i] - len(char)), end =\" \")    \n"
   ]
  }
 ],
 "metadata": {
  "kernelspec": {
   "display_name": "Python 3",
   "language": "python",
   "name": "python3"
  },
  "language_info": {
   "codemirror_mode": {
    "name": "ipython",
    "version": 3
   },
   "file_extension": ".py",
   "mimetype": "text/x-python",
   "name": "python",
   "nbconvert_exporter": "python",
   "pygments_lexer": "ipython3",
   "version": "3.7.6"
  }
 },
 "nbformat": 4,
 "nbformat_minor": 4
}
