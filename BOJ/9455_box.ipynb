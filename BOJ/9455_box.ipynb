{
 "cells": [
  {
   "cell_type": "code",
   "execution_count": 39,
   "metadata": {},
   "outputs": [
    {
     "name": "stdout",
     "output_type": "stream",
     "text": [
      "1\n",
      "5 4\n",
      "1 0 0 0\n",
      "0 0 1 0\n",
      "1 0 0 1\n",
      "0 1 0 0\n",
      "1 0 1 0\n",
      "[[0, 2, 4], [3], [1, 4], [2]]\n",
      "3\n",
      "4\n",
      "6\n",
      "8\n"
     ]
    }
   ],
   "source": [
    "test_case = int(input())\n",
    "\n",
    "for i in range(test_case):\n",
    "    #set shape of grid\n",
    "    M, N = map(int, input().split())\n",
    "    \n",
    "    #initialize grid\n",
    "    grid = [[0 for _ in range(N)] for _ in range(M)]\n",
    "    grid_columns = [[] for _ in range(N)]\n",
    "    for m in range(M):\n",
    "        rows = input().split(\" \")\n",
    "        grid[m] = [int(row) for row in rows]   \n",
    "        for i in range(N):\n",
    "            if grid[m][i] == 1:\n",
    "                grid_columns[i].append(m)\n",
    "    ans = 0\n",
    "    for i in range(len(grid_columns)):\n",
    "        ans += sum([a[0] - a[1] for a in zip(list(range(M - 1, M - len(grid_columns[i]) - 1, -1)), grid_columns[i])])\n",
    "    print(ans)"
   ]
  }
 ],
 "metadata": {
  "kernelspec": {
   "display_name": "Python 3",
   "language": "python",
   "name": "python3"
  },
  "language_info": {
   "codemirror_mode": {
    "name": "ipython",
    "version": 3
   },
   "file_extension": ".py",
   "mimetype": "text/x-python",
   "name": "python",
   "nbconvert_exporter": "python",
   "pygments_lexer": "ipython3",
   "version": "3.7.6"
  }
 },
 "nbformat": 4,
 "nbformat_minor": 4
}
