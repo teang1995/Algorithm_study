{
 "cells": [
  {
   "cell_type": "code",
   "execution_count": 2,
   "metadata": {},
   "outputs": [],
   "source": [
    "def dfs(map_, v):\n",
    "    #map_ : 각 점에서 연결된 노드의 리스트\n",
    "    #v    : 시작점\n",
    "    #N    : 간선의 수\n",
    "    #node\n",
    "    pos = v - 1\n",
    "    \n",
    "    #Is visited?\n",
    "    visited = [pos]\n",
    "    stack = [pos]\n",
    "\n",
    "    #until all nodes are checked \n",
    "    while(len(stack)):\n",
    "       \n",
    "        #if there is no node visitable\n",
    "        if all([x in visited for x in map_[pos]]):\n",
    "            pos = stack[-1]\n",
    "            if all([x in visited for x in map_[pos]]):\n",
    "                pos = stack.pop()\n",
    "            continue\n",
    "        #visit minimum node\n",
    "        \n",
    "        pos = min([x for x in map_[pos] if x not in visited])\n",
    "        if not all([x in visited for x in map_[pos]]):    \n",
    "            stack.append(pos)\n",
    "        visited.append(pos)\n",
    "    return visited"
   ]
  },
  {
   "cell_type": "code",
   "execution_count": 8,
   "metadata": {},
   "outputs": [
    {
     "name": "stdout",
     "output_type": "stream",
     "text": [
      "7\n",
      "6\n",
      "1 2\n",
      "2 3\n",
      "1 5\n",
      "5 2\n",
      "5 6\n",
      "4 7\n",
      "[0, 1, 2, 4, 5]\n",
      "5\n"
     ]
    }
   ],
   "source": [
    "def dfs(map_, v):\n",
    "    #map_ : 각 점에서 연결된 노드의 리스트\n",
    "    #v    : 시작점\n",
    "    #N    : 간선의 수\n",
    "    #node\n",
    "    pos = v - 1\n",
    "    \n",
    "    #Is visited?\n",
    "    visited = [pos]\n",
    "    stack = [pos]\n",
    "\n",
    "    #until all nodes are checked \n",
    "    while(len(stack)):\n",
    "       \n",
    "        #if there is no node visitable\n",
    "        if all([x in visited for x in map_[pos]]):\n",
    "            pos = stack[-1]\n",
    "            if all([x in visited for x in map_[pos]]):\n",
    "                pos = stack.pop()\n",
    "            continue\n",
    "        #visit minimum node\n",
    "        \n",
    "        pos = min([x for x in map_[pos] if x not in visited])\n",
    "        if not all([x in visited for x in map_[pos]]):    \n",
    "            stack.append(pos)\n",
    "        visited.append(pos)\n",
    "    return visited\n",
    "\n",
    "num_computers = int(input())\n",
    "\n",
    "N = int(input())\n",
    "map_ = [[] for _ in range(num_computers)]\n",
    "\n",
    "#input\n",
    "for _ in range(N):\n",
    "    #two points\n",
    "    x, y = map(int, input().split())\n",
    "    \n",
    "    #initialize map\n",
    "    map_[x - 1].append(y - 1)\n",
    "    map_[y - 1].append(x - 1)\n",
    "    \n",
    "map_ = [sorted(x) for x in map_]\n",
    "\n",
    "\n",
    "print(len(dfs(map_, 1)) - 1)"
   ]
  }
 ],
 "metadata": {
  "kernelspec": {
   "display_name": "Python 3",
   "language": "python",
   "name": "python3"
  },
  "language_info": {
   "codemirror_mode": {
    "name": "ipython",
    "version": 3
   },
   "file_extension": ".py",
   "mimetype": "text/x-python",
   "name": "python",
   "nbconvert_exporter": "python",
   "pygments_lexer": "ipython3",
   "version": "3.7.6"
  }
 },
 "nbformat": 4,
 "nbformat_minor": 4
}
