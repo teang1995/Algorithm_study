{
 "cells": [
  {
   "cell_type": "code",
   "execution_count": 18,
   "metadata": {},
   "outputs": [
    {
     "name": "stdout",
     "output_type": "stream",
     "text": [
      "3\n",
      "26 40 83\n",
      "49 60 57\n",
      "13 89 99\n",
      "96\n"
     ]
    }
   ],
   "source": [
    "N = int(input())\n",
    "\n",
    "answer = [[0, 0, 0] for _ in range(N)]\n",
    "\n",
    "answer[0] = list(map(int, input().split()))\n",
    "\n",
    "for i in range(1, N):\n",
    "    R, G, B = map(int, input().split())\n",
    "    answer[i][0] = min(answer[i - 1][1], answer[i - 1][2]) + R\n",
    "    answer[i][1] = min(answer[i - 1][0], answer[i - 1][2]) + G\n",
    "    answer[i][2] = min(answer[i - 1][0], answer[i - 1][1]) + B\n",
    "    \n",
    "print(min(answer[N - 1]))"
   ]
  }
 ],
 "metadata": {
  "kernelspec": {
   "display_name": "Python 3",
   "language": "python",
   "name": "python3"
  },
  "language_info": {
   "codemirror_mode": {
    "name": "ipython",
    "version": 3
   },
   "file_extension": ".py",
   "mimetype": "text/x-python",
   "name": "python",
   "nbconvert_exporter": "python",
   "pygments_lexer": "ipython3",
   "version": "3.7.6"
  }
 },
 "nbformat": 4,
 "nbformat_minor": 4
}
