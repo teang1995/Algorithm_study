{
 "cells": [
  {
   "cell_type": "code",
   "execution_count": 14,
   "metadata": {},
   "outputs": [
    {
     "name": "stdout",
     "output_type": "stream",
     "text": [
      "3\n",
      "17\n"
     ]
    }
   ],
   "source": [
    "N = int(input())\n",
    "answer = [0 for _ in range(N)]\n",
    "\n",
    "answer[0] = 3\n",
    "if 1 < N:\n",
    "    answer[1] = 7\n",
    "\n",
    "for i in range(2, N):\n",
    "    answer[i] = (answer[i - 1] * 2 + answer[i - 2]) % 9901\n",
    "    \n",
    "print(answer[N - 1])"
   ]
  },
  {
   "cell_type": "code",
   "execution_count": 20,
   "metadata": {},
   "outputs": [
    {
     "name": "stdout",
     "output_type": "stream",
     "text": [
      "4\n",
      "41\n"
     ]
    }
   ],
   "source": [
    "N = int(input())\n",
    "answer = [[0, 0, 0] for _ in range(N)]\n",
    "\n",
    "answer[0][0] = 1\n",
    "answer[0][1] = 1\n",
    "answer[0][2] = 1\n",
    "\n",
    "for i in range(1, N):\n",
    "    answer[i][0] = (answer[i - 1][0] + answer[i - 1][1] + answer[i - 1][2]) % 9901\n",
    "    answer[i][1] = (answer[i - 1][0] + answer[i - 1][2]) % 9901\n",
    "    answer[i][2] = (answer[i - 1][0] + answer[i - 1][1]) % 9901\n",
    "    \n",
    "print((answer[N - 1][0] + answer[N - 1][1] + answer[N - 1][2]) % 9901)\n"
   ]
  }
 ],
 "metadata": {
  "kernelspec": {
   "display_name": "Python 3",
   "language": "python",
   "name": "python3"
  },
  "language_info": {
   "codemirror_mode": {
    "name": "ipython",
    "version": 3
   },
   "file_extension": ".py",
   "mimetype": "text/x-python",
   "name": "python",
   "nbconvert_exporter": "python",
   "pygments_lexer": "ipython3",
   "version": "3.7.6"
  }
 },
 "nbformat": 4,
 "nbformat_minor": 4
}
