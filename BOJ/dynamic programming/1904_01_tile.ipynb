{
 "cells": [
  {
   "cell_type": "code",
   "execution_count": 6,
   "metadata": {},
   "outputs": [
    {
     "name": "stdout",
     "output_type": "stream",
     "text": [
      "2\n",
      "2\n"
     ]
    }
   ],
   "source": [
    "#계산하는 숫자의 크기가 연산 시간에 영향을 끼치는 것은 처음 알았다.\n",
    "N = int(input())\n",
    "\n",
    "n1 = 1\n",
    "n2 = 2\n",
    "sum_ = 3\n",
    "for _ in range(N - 2):\n",
    "    sum_ = (n1 + n2) % 15746\n",
    "    n1 = n2\n",
    "    n2 = sum_\n",
    "    \n",
    "if N <= 2:\n",
    "    print(N)\n",
    "\n",
    "else:\n",
    "    print(sum_)"
   ]
  }
 ],
 "metadata": {
  "kernelspec": {
   "display_name": "Python 3",
   "language": "python",
   "name": "python3"
  },
  "language_info": {
   "codemirror_mode": {
    "name": "ipython",
    "version": 3
   },
   "file_extension": ".py",
   "mimetype": "text/x-python",
   "name": "python",
   "nbconvert_exporter": "python",
   "pygments_lexer": "ipython3",
   "version": "3.7.6"
  }
 },
 "nbformat": 4,
 "nbformat_minor": 4
}
