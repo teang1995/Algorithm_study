{
 "cells": [
  {
   "cell_type": "code",
   "execution_count": 19,
   "metadata": {},
   "outputs": [
    {
     "name": "stdout",
     "output_type": "stream",
     "text": [
      "5\n",
      "7\n",
      "3 8\n",
      "8 1 0\n",
      "2 7 4 4\n",
      "4 5 2 6 5\n",
      "[[7], [10, 15], [18, 16, 15], [20, 25, 20, 19], [24, 30, 27, 26, 24]]\n",
      "30\n"
     ]
    }
   ],
   "source": [
    "N = int(input())\n",
    "\n",
    "tri = [[0 for _ in range(N)] for _ in range(N)]\n",
    "dp  = [[0 for _ in range(N)] for _ in range(N)]\n",
    "for i in range(N):\n",
    "    tri[i] = list(map(int, input().split()))\n",
    "    \n",
    "dp = tri[:]\n",
    "for i in range(1, N):\n",
    "    for j in range(i + 1):\n",
    "        if j == 0:\n",
    "            dp[i][0] += tri[i - 1][0]\n",
    "        elif j == i:\n",
    "            dp[i][j] += tri[i - 1][j - 1]\n",
    "        else:\n",
    "            dp[i][j] += max(tri[i - 1][j - 1], tri[i - 1][j])     \n",
    "print(max(dp[N - 1]))"
   ]
  }
 ],
 "metadata": {
  "kernelspec": {
   "display_name": "Python 3",
   "language": "python",
   "name": "python3"
  },
  "language_info": {
   "codemirror_mode": {
    "name": "ipython",
    "version": 3
   },
   "file_extension": ".py",
   "mimetype": "text/x-python",
   "name": "python",
   "nbconvert_exporter": "python",
   "pygments_lexer": "ipython3",
   "version": "3.7.6"
  }
 },
 "nbformat": 4,
 "nbformat_minor": 4
}
