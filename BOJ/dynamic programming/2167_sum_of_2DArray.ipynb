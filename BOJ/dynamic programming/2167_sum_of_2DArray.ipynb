{
 "cells": [
  {
   "cell_type": "code",
   "execution_count": 14,
   "metadata": {},
   "outputs": [
    {
     "name": "stdout",
     "output_type": "stream",
     "text": [
      "2 3\n",
      "1 2 4\n",
      "8 16 32\n",
      "[[0, 0, 0, 0], [0, 1, 3, 7], [0, 9, 27, 63]]\n",
      "3\n",
      "1 1 2 3\n",
      "63\n",
      "1 2 1 2\n",
      "2\n",
      "1 3 2 3\n",
      "36\n"
     ]
    }
   ],
   "source": [
    "N, M = map(int, input().split())\n",
    "\n",
    "array = []\n",
    "answer = [[0 for _ in range(M + 1)] for _ in range(N + 1)]\n",
    "for i in range(N):\n",
    "    array.append(list(map(int, input().split())))\n",
    "\n",
    "\n",
    "for i in range(1, N + 1):\n",
    "    for j in range(1, M + 1):\n",
    "        answer[i][j] = array[i - 1][j - 1] + answer[i - 1][j] + answer[i][j - 1] - answer[i - 1][j - 1]\n",
    "        \n",
    "\n",
    "times = int(input())\n",
    "\n",
    "for time in range(times):\n",
    "    i, j, x, y = map(int, input().split())\n",
    "    print(answer[x][y] - answer[x][j - 1] - answer[i - 1][y] + answer[i - 1][j - 1])\n",
    "    \n",
    "\n",
    "        "
   ]
  }
 ],
 "metadata": {
  "kernelspec": {
   "display_name": "Python 3",
   "language": "python",
   "name": "python3"
  },
  "language_info": {
   "codemirror_mode": {
    "name": "ipython",
    "version": 3
   },
   "file_extension": ".py",
   "mimetype": "text/x-python",
   "name": "python",
   "nbconvert_exporter": "python",
   "pygments_lexer": "ipython3",
   "version": "3.7.6"
  }
 },
 "nbformat": 4,
 "nbformat_minor": 4
}
