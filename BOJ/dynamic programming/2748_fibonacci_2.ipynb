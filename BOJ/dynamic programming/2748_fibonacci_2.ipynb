{
 "cells": [
  {
   "cell_type": "code",
   "execution_count": 1,
   "metadata": {},
   "outputs": [
    {
     "name": "stdout",
     "output_type": "stream",
     "text": [
      "10\n",
      "55\n"
     ]
    }
   ],
   "source": [
    "answer = [0 for _ in range(91)]\n",
    "\n",
    "answer[0] = 0\n",
    "answer[1] = 1\n",
    "\n",
    "N = int(input())\n",
    "\n",
    "for i in range(2, N + 1):\n",
    "    answer[i] = answer[i - 1] + answer[i - 2]\n",
    "    \n",
    "print(answer[N])"
   ]
  }
 ],
 "metadata": {
  "kernelspec": {
   "display_name": "Python 3",
   "language": "python",
   "name": "python3"
  },
  "language_info": {
   "codemirror_mode": {
    "name": "ipython",
    "version": 3
   },
   "file_extension": ".py",
   "mimetype": "text/x-python",
   "name": "python",
   "nbconvert_exporter": "python",
   "pygments_lexer": "ipython3",
   "version": "3.7.6"
  }
 },
 "nbformat": 4,
 "nbformat_minor": 4
}
