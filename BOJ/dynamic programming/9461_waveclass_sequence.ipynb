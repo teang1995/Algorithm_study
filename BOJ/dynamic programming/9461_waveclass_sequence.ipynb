{
 "cells": [
  {
   "cell_type": "code",
   "execution_count": 5,
   "metadata": {},
   "outputs": [
    {
     "name": "stdout",
     "output_type": "stream",
     "text": [
      "2\n",
      "6\n",
      "3\n",
      "12\n",
      "16\n"
     ]
    }
   ],
   "source": [
    "#문제를 잘 읽자.\n",
    "test_case = int(input())\n",
    "\n",
    "answer = [0 for _ in range(100)]\n",
    "\n",
    "answer[0] = 1 #P(1)\n",
    "answer[1] = 1 #P(2)\n",
    "answer[2] = 1 #P(3)\n",
    "answer[3] = 2 #P(4)\n",
    "\n",
    "for i in range(4, 100):\n",
    "    answer[i] = answer[i - 3] + answer[i - 2]\n",
    "    \n",
    "for case in range(test_case):\n",
    "    idx = int(input())\n",
    "    print(answer[idx - 1])"
   ]
  }
 ],
 "metadata": {
  "kernelspec": {
   "display_name": "Python 3",
   "language": "python",
   "name": "python3"
  },
  "language_info": {
   "codemirror_mode": {
    "name": "ipython",
    "version": 3
   },
   "file_extension": ".py",
   "mimetype": "text/x-python",
   "name": "python",
   "nbconvert_exporter": "python",
   "pygments_lexer": "ipython3",
   "version": "3.7.6"
  }
 },
 "nbformat": 4,
 "nbformat_minor": 4
}
