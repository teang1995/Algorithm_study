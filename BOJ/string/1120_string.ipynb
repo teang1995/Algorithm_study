{
 "cells": [
  {
   "cell_type": "code",
   "execution_count": 14,
   "metadata": {
    "scrolled": true
   },
   "outputs": [
    {
     "name": "stdout",
     "output_type": "stream",
     "text": [
      "adaabc aababbc\n",
      "2\n"
     ]
    }
   ],
   "source": [
    "X, Y = input().split()\n",
    "\n",
    "min_ = 51\n",
    "\n",
    "for i in range(len(Y) - len(X) + 1):\n",
    "    cnt = sum([1 if X[j] != Y[i:i + len(X)][j]  else 0 for j in range(len(X))])\n",
    "    if cnt < min_:\n",
    "        min_ = cnt\n",
    "print(min_)"
   ]
  },
  {
   "cell_type": "markdown",
   "metadata": {},
   "source": [
    "슬라이싱을 이용해 문자열을 비교해보았다.\n",
    "이게 가장 효율적인 방법인지는 구글링 및 질문이 필요해보인다!"
   ]
  }
 ],
 "metadata": {
  "kernelspec": {
   "display_name": "Python 3",
   "language": "python",
   "name": "python3"
  },
  "language_info": {
   "codemirror_mode": {
    "name": "ipython",
    "version": 3
   },
   "file_extension": ".py",
   "mimetype": "text/x-python",
   "name": "python",
   "nbconvert_exporter": "python",
   "pygments_lexer": "ipython3",
   "version": "3.7.6"
  }
 },
 "nbformat": 4,
 "nbformat_minor": 4
}
