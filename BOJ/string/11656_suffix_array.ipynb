{
 "cells": [
  {
   "cell_type": "code",
   "execution_count": 9,
   "metadata": {},
   "outputs": [
    {
     "name": "stdout",
     "output_type": "stream",
     "text": [
      "baekjoon\n",
      "aekjoon\n",
      "baekjoon\n",
      "ekjoon\n",
      "joon\n",
      "kjoon\n",
      "n\n",
      "on\n",
      "oon\n"
     ]
    }
   ],
   "source": [
    "a = input()\n",
    "suffixs  = []\n",
    "for i in range(len(a)):\n",
    "    suffixs.append(a[i:])\n",
    "    \n",
    "for suffix in sorted(suffixs):\n",
    "    print(suffix)\n",
    "    "
   ]
  },
  {
   "cell_type": "markdown",
   "metadata": {},
   "source": [
    "슬라이싱을 해서 suffix를 구했다.\n",
    "슬라이싱이 너무 약한 것 같아, 이것도 해보기로 했다."
   ]
  },
  {
   "cell_type": "code",
   "execution_count": 11,
   "metadata": {},
   "outputs": [
    {
     "name": "stdout",
     "output_type": "stream",
     "text": [
      "baeckjoon\n",
      "aeckjoon\n",
      "eckjoon\n",
      "ckjoon\n",
      "kjoon\n",
      "joon\n",
      "oon\n",
      "on\n",
      "n\n"
     ]
    }
   ],
   "source": [
    "#slicing from index 0\n",
    "a = \"baeckjoon\"\n",
    "for i in range(len(a)):\n",
    "    print(a[i:])"
   ]
  },
  {
   "cell_type": "code",
   "execution_count": 12,
   "metadata": {},
   "outputs": [
    {
     "name": "stdout",
     "output_type": "stream",
     "text": [
      "\n",
      "baeckjoo\n",
      "baeckjo\n",
      "baeckj\n",
      "baeck\n",
      "baec\n",
      "bae\n",
      "ba\n",
      "b\n"
     ]
    }
   ],
   "source": [
    "#slicing from index -1\n",
    "a = \"baeckjoon\"\n",
    "for i in range(len(a)):\n",
    "    print(a[:-i])"
   ]
  },
  {
   "cell_type": "code",
   "execution_count": 13,
   "metadata": {},
   "outputs": [
    {
     "data": {
      "text/plain": [
       "'ae'"
      ]
     },
     "execution_count": 13,
     "metadata": {},
     "output_type": "execute_result"
    }
   ],
   "source": [
    "a[1:3]\n",
    "#1이상 3 미만의 index에서 가져오는 것을 확인할 수 있다.\n"
   ]
  },
  {
   "cell_type": "code",
   "execution_count": 14,
   "metadata": {},
   "outputs": [
    {
     "data": {
      "text/plain": [
       "'baeckjoon'"
      ]
     },
     "execution_count": 14,
     "metadata": {},
     "output_type": "execute_result"
    }
   ],
   "source": [
    "a[:]\n",
    "#얕은 복사 할 때 봤다."
   ]
  }
 ],
 "metadata": {
  "kernelspec": {
   "display_name": "Python 3",
   "language": "python",
   "name": "python3"
  },
  "language_info": {
   "codemirror_mode": {
    "name": "ipython",
    "version": 3
   },
   "file_extension": ".py",
   "mimetype": "text/x-python",
   "name": "python",
   "nbconvert_exporter": "python",
   "pygments_lexer": "ipython3",
   "version": "3.7.6"
  }
 },
 "nbformat": 4,
 "nbformat_minor": 4
}
